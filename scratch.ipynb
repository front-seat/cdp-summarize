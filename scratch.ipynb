{
 "cells": [
  {
   "cell_type": "markdown",
   "metadata": {},
   "source": [
    "### Random code/playground while I'm learning the ropes"
   ]
  },
  {
   "cell_type": "code",
   "execution_count": 10,
   "metadata": {},
   "outputs": [
    {
     "data": {
      "application/vnd.jupyter.widget-view+json": {
       "model_id": "8897270136334929a83156b2a0d9cfd5",
       "version_major": 2,
       "version_minor": 0
      },
      "text/plain": [
       "Fetching each model attached to event_ref:   0%|          | 0/6 [00:00<?, ?it/s]"
      ]
     },
     "metadata": {},
     "output_type": "display_data"
    },
    {
     "data": {
      "application/vnd.jupyter.widget-view+json": {
       "model_id": "c3997f53c8a04d3eb5c03644b6b20a68",
       "version_major": 2,
       "version_minor": 0
      },
      "text/plain": [
       "Fetching transcripts:   0%|          | 0/6 [00:00<?, ?it/s]"
      ]
     },
     "metadata": {},
     "output_type": "display_data"
    },
    {
     "data": {
      "text/html": [
       "<div>\n",
       "<style scoped>\n",
       "    .dataframe tbody tr th:only-of-type {\n",
       "        vertical-align: middle;\n",
       "    }\n",
       "\n",
       "    .dataframe tbody tr th {\n",
       "        vertical-align: top;\n",
       "    }\n",
       "\n",
       "    .dataframe thead th {\n",
       "        text-align: right;\n",
       "    }\n",
       "</style>\n",
       "<table border=\"1\" class=\"dataframe\">\n",
       "  <thead>\n",
       "    <tr style=\"text-align: right;\">\n",
       "      <th></th>\n",
       "      <th>session_datetime</th>\n",
       "      <th>session_index</th>\n",
       "      <th>session_content_hash</th>\n",
       "      <th>video_uri</th>\n",
       "      <th>video_start_time</th>\n",
       "      <th>video_end_time</th>\n",
       "      <th>caption_uri</th>\n",
       "      <th>external_source_id</th>\n",
       "      <th>id</th>\n",
       "      <th>key</th>\n",
       "      <th>event</th>\n",
       "      <th>transcript</th>\n",
       "      <th>transcript_path</th>\n",
       "    </tr>\n",
       "  </thead>\n",
       "  <tbody>\n",
       "    <tr>\n",
       "      <th>0</th>\n",
       "      <td>2023-08-10 16:30:00+00:00</td>\n",
       "      <td>0</td>\n",
       "      <td>6e7b96a7887b865491e8706c3fce721b311169533d9416...</td>\n",
       "      <td>https://video.seattle.gov/media/council/fin_08...</td>\n",
       "      <td>None</td>\n",
       "      <td>None</td>\n",
       "      <td>https://www.seattlechannel.org/documents/seatt...</td>\n",
       "      <td>None</td>\n",
       "      <td>e7ef50e46286</td>\n",
       "      <td>session/e7ef50e46286</td>\n",
       "      <td>&lt;cdp_backend.database.models.Event object at 0...</td>\n",
       "      <td>&lt;cdp_backend.database.models.Transcript object...</td>\n",
       "      <td>/Users/dave/dev/cdp/summarize/cdp-datasets/cdp...</td>\n",
       "    </tr>\n",
       "    <tr>\n",
       "      <th>1</th>\n",
       "      <td>2023-08-15 16:30:00+00:00</td>\n",
       "      <td>0</td>\n",
       "      <td>e174b83903970cad3aa7c8b10e79f2cad0daf171535e84...</td>\n",
       "      <td>https://video.seattle.gov/media/council/tran_0...</td>\n",
       "      <td>None</td>\n",
       "      <td>None</td>\n",
       "      <td>https://www.seattlechannel.org/documents/seatt...</td>\n",
       "      <td>None</td>\n",
       "      <td>667aaee0ce7f</td>\n",
       "      <td>session/667aaee0ce7f</td>\n",
       "      <td>&lt;cdp_backend.database.models.Event object at 0...</td>\n",
       "      <td>&lt;cdp_backend.database.models.Transcript object...</td>\n",
       "      <td>/Users/dave/dev/cdp/summarize/cdp-datasets/cdp...</td>\n",
       "    </tr>\n",
       "    <tr>\n",
       "      <th>2</th>\n",
       "      <td>2023-08-15 21:00:00+00:00</td>\n",
       "      <td>0</td>\n",
       "      <td>ee91f0df9697a208bba4941b9ed144be407f2da2920200...</td>\n",
       "      <td>https://video.seattle.gov/media/council/counci...</td>\n",
       "      <td>None</td>\n",
       "      <td>None</td>\n",
       "      <td>https://www.seattlechannel.org/documents/seatt...</td>\n",
       "      <td>None</td>\n",
       "      <td>bc815f76977a</td>\n",
       "      <td>session/bc815f76977a</td>\n",
       "      <td>&lt;cdp_backend.database.models.Event object at 0...</td>\n",
       "      <td>&lt;cdp_backend.database.models.Transcript object...</td>\n",
       "      <td>/Users/dave/dev/cdp/summarize/cdp-datasets/cdp...</td>\n",
       "    </tr>\n",
       "    <tr>\n",
       "      <th>3</th>\n",
       "      <td>2023-09-05 16:30:00+00:00</td>\n",
       "      <td>0</td>\n",
       "      <td>5dc9c360ceacf1354ea45a2dcedef2baa61ef37ae402ec...</td>\n",
       "      <td>https://video.seattle.gov/media/council/tran_0...</td>\n",
       "      <td>None</td>\n",
       "      <td>None</td>\n",
       "      <td>https://www.seattlechannel.org/documents/seatt...</td>\n",
       "      <td>None</td>\n",
       "      <td>a8f723913165</td>\n",
       "      <td>session/a8f723913165</td>\n",
       "      <td>&lt;cdp_backend.database.models.Event object at 0...</td>\n",
       "      <td>&lt;cdp_backend.database.models.Transcript object...</td>\n",
       "      <td>/Users/dave/dev/cdp/summarize/cdp-datasets/cdp...</td>\n",
       "    </tr>\n",
       "    <tr>\n",
       "      <th>4</th>\n",
       "      <td>2023-09-11 16:30:00+00:00</td>\n",
       "      <td>0</td>\n",
       "      <td>c8c03d4b78b001baaf2ef698a45df2a5202868c359fc43...</td>\n",
       "      <td>https://video.seattle.gov/media/council/econ_0...</td>\n",
       "      <td>None</td>\n",
       "      <td>None</td>\n",
       "      <td>https://www.seattlechannel.org/documents/seatt...</td>\n",
       "      <td>None</td>\n",
       "      <td>a14530608f7e</td>\n",
       "      <td>session/a14530608f7e</td>\n",
       "      <td>&lt;cdp_backend.database.models.Event object at 0...</td>\n",
       "      <td>&lt;cdp_backend.database.models.Transcript object...</td>\n",
       "      <td>/Users/dave/dev/cdp/summarize/cdp-datasets/cdp...</td>\n",
       "    </tr>\n",
       "    <tr>\n",
       "      <th>5</th>\n",
       "      <td>2023-09-12 16:30:00+00:00</td>\n",
       "      <td>0</td>\n",
       "      <td>a941c22ec1d46722b5e7dd197df22a07e570b2563365d4...</td>\n",
       "      <td>https://video.seattle.gov/media/council/safe_0...</td>\n",
       "      <td>None</td>\n",
       "      <td>None</td>\n",
       "      <td>https://www.seattlechannel.org/documents/seatt...</td>\n",
       "      <td>None</td>\n",
       "      <td>87fdccfcba38</td>\n",
       "      <td>session/87fdccfcba38</td>\n",
       "      <td>&lt;cdp_backend.database.models.Event object at 0...</td>\n",
       "      <td>&lt;cdp_backend.database.models.Transcript object...</td>\n",
       "      <td>/Users/dave/dev/cdp/summarize/cdp-datasets/cdp...</td>\n",
       "    </tr>\n",
       "  </tbody>\n",
       "</table>\n",
       "</div>"
      ],
      "text/plain": [
       "           session_datetime  session_index  \\\n",
       "0 2023-08-10 16:30:00+00:00              0   \n",
       "1 2023-08-15 16:30:00+00:00              0   \n",
       "2 2023-08-15 21:00:00+00:00              0   \n",
       "3 2023-09-05 16:30:00+00:00              0   \n",
       "4 2023-09-11 16:30:00+00:00              0   \n",
       "5 2023-09-12 16:30:00+00:00              0   \n",
       "\n",
       "                                session_content_hash  \\\n",
       "0  6e7b96a7887b865491e8706c3fce721b311169533d9416...   \n",
       "1  e174b83903970cad3aa7c8b10e79f2cad0daf171535e84...   \n",
       "2  ee91f0df9697a208bba4941b9ed144be407f2da2920200...   \n",
       "3  5dc9c360ceacf1354ea45a2dcedef2baa61ef37ae402ec...   \n",
       "4  c8c03d4b78b001baaf2ef698a45df2a5202868c359fc43...   \n",
       "5  a941c22ec1d46722b5e7dd197df22a07e570b2563365d4...   \n",
       "\n",
       "                                           video_uri video_start_time  \\\n",
       "0  https://video.seattle.gov/media/council/fin_08...             None   \n",
       "1  https://video.seattle.gov/media/council/tran_0...             None   \n",
       "2  https://video.seattle.gov/media/council/counci...             None   \n",
       "3  https://video.seattle.gov/media/council/tran_0...             None   \n",
       "4  https://video.seattle.gov/media/council/econ_0...             None   \n",
       "5  https://video.seattle.gov/media/council/safe_0...             None   \n",
       "\n",
       "  video_end_time                                        caption_uri  \\\n",
       "0           None  https://www.seattlechannel.org/documents/seatt...   \n",
       "1           None  https://www.seattlechannel.org/documents/seatt...   \n",
       "2           None  https://www.seattlechannel.org/documents/seatt...   \n",
       "3           None  https://www.seattlechannel.org/documents/seatt...   \n",
       "4           None  https://www.seattlechannel.org/documents/seatt...   \n",
       "5           None  https://www.seattlechannel.org/documents/seatt...   \n",
       "\n",
       "  external_source_id            id                   key  \\\n",
       "0               None  e7ef50e46286  session/e7ef50e46286   \n",
       "1               None  667aaee0ce7f  session/667aaee0ce7f   \n",
       "2               None  bc815f76977a  session/bc815f76977a   \n",
       "3               None  a8f723913165  session/a8f723913165   \n",
       "4               None  a14530608f7e  session/a14530608f7e   \n",
       "5               None  87fdccfcba38  session/87fdccfcba38   \n",
       "\n",
       "                                               event  \\\n",
       "0  <cdp_backend.database.models.Event object at 0...   \n",
       "1  <cdp_backend.database.models.Event object at 0...   \n",
       "2  <cdp_backend.database.models.Event object at 0...   \n",
       "3  <cdp_backend.database.models.Event object at 0...   \n",
       "4  <cdp_backend.database.models.Event object at 0...   \n",
       "5  <cdp_backend.database.models.Event object at 0...   \n",
       "\n",
       "                                          transcript  \\\n",
       "0  <cdp_backend.database.models.Transcript object...   \n",
       "1  <cdp_backend.database.models.Transcript object...   \n",
       "2  <cdp_backend.database.models.Transcript object...   \n",
       "3  <cdp_backend.database.models.Transcript object...   \n",
       "4  <cdp_backend.database.models.Transcript object...   \n",
       "5  <cdp_backend.database.models.Transcript object...   \n",
       "\n",
       "                                     transcript_path  \n",
       "0  /Users/dave/dev/cdp/summarize/cdp-datasets/cdp...  \n",
       "1  /Users/dave/dev/cdp/summarize/cdp-datasets/cdp...  \n",
       "2  /Users/dave/dev/cdp/summarize/cdp-datasets/cdp...  \n",
       "3  /Users/dave/dev/cdp/summarize/cdp-datasets/cdp...  \n",
       "4  /Users/dave/dev/cdp/summarize/cdp-datasets/cdp...  \n",
       "5  /Users/dave/dev/cdp/summarize/cdp-datasets/cdp...  "
      ]
     },
     "execution_count": 10,
     "metadata": {},
     "output_type": "execute_result"
    }
   ],
   "source": [
    "from cdp_data import CDPInstances, datasets\n",
    "\n",
    "datasets_df = datasets.get_session_dataset(\n",
    "\tinfrastructure_slug=CDPInstances.Seattle,\n",
    "\tstart_datetime=\"2023-08-01\",\n",
    "\tstore_transcript=True\n",
    ")\n",
    "\n",
    "datasets_df"
   ]
  },
  {
   "cell_type": "code",
   "execution_count": 107,
   "metadata": {},
   "outputs": [
    {
     "data": {
      "text/plain": [
       "{'body_ref': <fireo.queries.query_wrapper.ReferenceDocLoader at 0x17d58ba10>,\n",
       " 'event_datetime': DatetimeWithNanoseconds(2023, 8, 10, 16, 30, tzinfo=datetime.timezone.utc),\n",
       " 'static_thumbnail_ref': <fireo.queries.query_wrapper.ReferenceDocLoader at 0x17d8be8d0>,\n",
       " 'hover_thumbnail_ref': <fireo.queries.query_wrapper.ReferenceDocLoader at 0x17d6af990>,\n",
       " 'agenda_uri': None,\n",
       " 'minutes_uri': 'https://legistar2.granicus.com/seattle/meetings/2023/8/5578_M_Finance_and_Housing_Committee_23-08-10_Committee_Minutes.pdf',\n",
       " 'external_source_id': '5578',\n",
       " 'id': 'f5beff18eb58',\n",
       " 'key': 'event/f5beff18eb58'}"
      ]
     },
     "execution_count": 107,
     "metadata": {},
     "output_type": "execute_result"
    }
   ],
   "source": [
    "from cdp_backend.database import models\n",
    "\n",
    "event_0 = datasets_df.iloc[0][\"event\"]\n",
    "event_0.to_dict()"
   ]
  },
  {
   "cell_type": "code",
   "execution_count": 24,
   "metadata": {},
   "outputs": [
    {
     "data": {
      "text/plain": [
       "<cdp_backend.database.models.Body at 0x17dadc690>"
      ]
     },
     "execution_count": 24,
     "metadata": {},
     "output_type": "execute_result"
    }
   ],
   "source": [
    "event_0.body_ref.get()"
   ]
  },
  {
   "cell_type": "markdown",
   "metadata": {},
   "source": [
    "Okay, I can see I can follow an `Event` to `Body`... but what if I want to get some `Matter`s?"
   ]
  },
  {
   "cell_type": "code",
   "execution_count": 47,
   "metadata": {},
   "outputs": [
    {
     "name": "stdout",
     "output_type": "stream",
     "text": [
      "{'name': 'CB 120231', 'matter_type': 'Ordinance (Ord)', 'title': 'AN ORDINANCE relating to City employment; authorizing the execution of an agreement between The City of Seattle and Seattle Fire Chiefs Association, International Association of Fire Fighters (IAFF) Local 2898; and ratifying and confirming certain prior acts.', 'external_source_id': '12226', 'id': '0015333ecb6f', 'key': 'matter/0015333ecb6f'}\n"
     ]
    }
   ],
   "source": [
    "import typing as t\n",
    "import json\n",
    "import fireo\n",
    "from google.cloud.firestore import Client\n",
    "from google.auth.credentials import AnonymousCredentials\n",
    "\n",
    "# Fireo has some wacky global nonsense that makes it annoying to use --\n",
    "# much happier would be to pass an explicit connection instance around, \n",
    "# but it mostly works hard to prevent you from thinking about it.\n",
    "fireo.connection(\n",
    "\tclient=Client(\n",
    "    credentials=AnonymousCredentials(),\n",
    "    project=CDPInstances.Seattle,\n",
    "  )\t\n",
    ")\n",
    "\n",
    "results = list(models.Matter.collection.fetch())\n",
    "matter_0 = t.cast(models.Matter, results[0])\n",
    "print(matter_0.to_dict())"
   ]
  },
  {
   "cell_type": "code",
   "execution_count": 48,
   "metadata": {},
   "outputs": [
    {
     "name": "stdout",
     "output_type": "stream",
     "text": [
      "{'matter_ref': <fireo.queries.query_wrapper.ReferenceDocLoader object at 0x2a39bf750>, 'name': 'Signed Ordinance 126500', 'uri': 'https://legistar2.granicus.com/seattle/attachments/f2d2066a-9001-435b-bbc4-4c2a1f4edc5b.pdf', 'external_source_id': '32616', 'id': '0e11bcb3a973', 'key': 'matter_file/0e11bcb3a973'}\n",
      "{'matter_ref': <fireo.queries.query_wrapper.ReferenceDocLoader object at 0x2a3a28c10>, 'name': 'Summary and Fiscal Note', 'uri': 'https://legistar2.granicus.com/seattle/attachments/68ec5a51-d137-4b75-92b5-7e0a288a6464.docx', 'external_source_id': '31903', 'id': '0f0aaa318f9b', 'key': 'matter_file/0f0aaa318f9b'}\n",
      "{'matter_ref': <fireo.queries.query_wrapper.ReferenceDocLoader object at 0x17daf2590>, 'name': 'Att 1 - Memorandum of Agreement', 'uri': 'https://legistar2.granicus.com/seattle/attachments/f22d00d2-71b5-4b5c-a3a4-d504e89e05aa.docx', 'external_source_id': '32288', 'id': 'a007e73739c4', 'key': 'matter_file/a007e73739c4'}\n",
      "{'matter_ref': <fireo.queries.query_wrapper.ReferenceDocLoader object at 0x2a3a090d0>, 'name': 'Central Staff Memo', 'uri': 'https://legistar2.granicus.com/seattle/attachments/dd3b5415-87e5-4375-834c-1bdeb6cba39b.pdf', 'external_source_id': '32394', 'id': 'a2d32eab64af', 'key': 'matter_file/a2d32eab64af'}\n",
      "{'matter_ref': <fireo.queries.query_wrapper.ReferenceDocLoader object at 0x17dc2fb10>, 'name': 'Central Staff Memo', 'uri': 'http://legistar2.granicus.com/seattle/attachments/dd3b5415-87e5-4375-834c-1bdeb6cba39b.pdf', 'external_source_id': '32394', 'id': 'b20e9c6871de', 'key': 'matter_file/b20e9c6871de'}\n",
      "{'matter_ref': <fireo.queries.query_wrapper.ReferenceDocLoader object at 0x17dc6ed10>, 'name': 'Affidavit of Publication', 'uri': 'https://legistar2.granicus.com/seattle/attachments/0d5d9ed5-c348-4c49-a2e5-f7aca62126bd.pdf', 'external_source_id': '32701', 'id': 'b96f23eaeeae', 'key': 'matter_file/b96f23eaeeae'}\n",
      "{'matter_ref': <fireo.queries.query_wrapper.ReferenceDocLoader object at 0x17dc2f910>, 'name': 'Summary and Fiscal Note', 'uri': 'http://legistar2.granicus.com/seattle/attachments/68ec5a51-d137-4b75-92b5-7e0a288a6464.docx', 'external_source_id': '31903', 'id': 'd4b737a70246', 'key': 'matter_file/d4b737a70246'}\n"
     ]
    }
   ],
   "source": [
    "# Get all the files for a given matter\n",
    "results = list(models.MatterFile.collection.filter(matter_ref=matter_0.key).fetch())\n",
    "for matter_file in results:\n",
    "\tassert isinstance(matter_file, models.MatterFile)\n",
    "\tprint(matter_file.to_dict())"
   ]
  },
  {
   "cell_type": "markdown",
   "metadata": {},
   "source": [
    "Okay, good. We need to tie all this stuff to events, however. Let's try..."
   ]
  },
  {
   "cell_type": "code",
   "execution_count": 50,
   "metadata": {},
   "outputs": [
    {
     "name": "stdout",
     "output_type": "stream",
     "text": [
      "{'name': 'CB 120231', 'description': 'AN ORDINANCE relating to City employment; authorizing the execution of an agreement between The City of Seattle and Seattle Fire Chiefs Association, International Association of Fire Fighters (IAFF) Local 2898; and ratifying and confirming certain prior acts.', 'matter_ref': <fireo.queries.query_wrapper.ReferenceDocLoader object at 0x134a75a10>, 'external_source_id': '87641', 'id': '0015333ecb6f', 'key': 'minutes_item/0015333ecb6f'}\n"
     ]
    }
   ],
   "source": [
    "results = list(models.MinutesItem.collection.filter(matter_ref=matter_0.key).fetch())\n",
    "for minutes_item in results:\n",
    "  assert isinstance(minutes_item, models.MinutesItem)\n",
    "  print(minutes_item.to_dict())\n",
    "minutes_item = t.cast(models.MinutesItem, results[0])"
   ]
  },
  {
   "cell_type": "code",
   "execution_count": 52,
   "metadata": {},
   "outputs": [
    {
     "name": "stdout",
     "output_type": "stream",
     "text": [
      "{'event_ref': <fireo.queries.query_wrapper.ReferenceDocLoader object at 0x134a73e10>, 'minutes_item_ref': <fireo.queries.query_wrapper.ReferenceDocLoader object at 0x134a75550>, 'index': 20, 'decision': 'Passed', 'external_source_id': None, 'id': '63d1a3d0ddcc', 'key': 'event_minutes_item/63d1a3d0ddcc'}\n"
     ]
    }
   ],
   "source": [
    "results = list(models.EventMinutesItem.collection.filter(minutes_item_ref=minutes_item.key).fetch())\n",
    "for event_minutes_item in results:\n",
    "  assert isinstance(event_minutes_item, models.EventMinutesItem)\n",
    "  print(event_minutes_item.to_dict())\n",
    "event_minutes_item = t.cast(models.EventMinutesItem, results[0])"
   ]
  },
  {
   "cell_type": "code",
   "execution_count": 55,
   "metadata": {},
   "outputs": [
    {
     "data": {
      "text/plain": [
       "{'body_ref': <fireo.queries.query_wrapper.ReferenceDocLoader at 0x17daec050>,\n",
       " 'event_datetime': DatetimeWithNanoseconds(2021, 12, 6, 22, 0, tzinfo=datetime.timezone.utc),\n",
       " 'static_thumbnail_ref': <fireo.queries.query_wrapper.ReferenceDocLoader at 0x17d523350>,\n",
       " 'hover_thumbnail_ref': <fireo.queries.query_wrapper.ReferenceDocLoader at 0x17daec0d0>,\n",
       " 'agenda_uri': None,\n",
       " 'minutes_uri': 'https://legistar2.granicus.com/seattle/meetings/2021/12/4927_M_City_Council_21-12-06_Full_Council_Meeting_Minutes.pdf',\n",
       " 'external_source_id': '4927',\n",
       " 'id': '2adc154d91b0',\n",
       " 'key': 'event/2adc154d91b0'}"
      ]
     },
     "execution_count": 55,
     "metadata": {},
     "output_type": "execute_result"
    }
   ],
   "source": [
    "event = event_minutes_item.event_ref.get()\n",
    "event.to_dict()"
   ]
  },
  {
   "cell_type": "code",
   "execution_count": 108,
   "metadata": {},
   "outputs": [
    {
     "name": "stdout",
     "output_type": "stream",
     "text": [
      "Thursday, August 10, 2023 09:30 AM\n"
     ]
    }
   ],
   "source": [
    "# Prettyprint the event.event_datetime\n",
    "import datetime\n",
    "import zoneinfo\n",
    "seattle_tz = zoneinfo.ZoneInfo(\"America/Los_Angeles\")\n",
    "print(event_0.event_datetime.astimezone(seattle_tz).strftime(\"%A, %B %d, %Y %I:%M %p\"))"
   ]
  },
  {
   "cell_type": "markdown",
   "metadata": {},
   "source": [
    "Okay, good. We've gone from `Matter` to `Event`. Let's go the other way: given a set of events, find all the related matters."
   ]
  },
  {
   "cell_type": "code",
   "execution_count": 109,
   "metadata": {},
   "outputs": [
    {
     "name": "stdout",
     "output_type": "stream",
     "text": [
      "{'name': 'Inf 2309', 'matter_type': 'Information Item (Inf)', 'title': 'Seattle Revenue Stabilization Work Group', 'external_source_id': '14450', 'id': '4a5265c81813', 'key': 'matter/4a5265c81813'}\n"
     ]
    }
   ],
   "source": [
    "def matters_for_event(event: models.Event) -> list[models.Matter]:\n",
    "  # TODO I assume there's a better, more firestore-database-y way to do this?\n",
    "  event_minutes_items = t.cast(list[models.EventMinutesItem], list(models.EventMinutesItem.collection.filter(event_ref=event.key).order(\"index\").fetch()))\n",
    "  minutes_items = t.cast(list[models.MinutesItem], [event_minutes_item.minutes_item_ref.get() for event_minutes_item in event_minutes_items])\n",
    "  matters = t.cast(list[models.Matter], [matter_ref.get() for minutes_item in minutes_items if (matter_ref := minutes_item.matter_ref)])\n",
    "  return matters\n",
    "\n",
    "matters = matters_for_event(event_0)\n",
    "for matter in matters:\n",
    "  print(matter.to_dict())\n"
   ]
  },
  {
   "cell_type": "code",
   "execution_count": 110,
   "metadata": {},
   "outputs": [
    {
     "name": "stdout",
     "output_type": "stream",
     "text": [
      "{'matter_ref': <fireo.queries.query_wrapper.ReferenceDocLoader object at 0x134655a10>, 'name': 'Central Staff Memo - Revenue Stabilization Work Group – Process and Next Steps', 'uri': 'https://legistar2.granicus.com/seattle/attachments/6350c245-4167-47b7-a24f-d9b962af85cc.pdf', 'external_source_id': '38380', 'id': '3bd1fff1b31b', 'key': 'matter_file/3bd1fff1b31b'}\n",
      "{'matter_ref': <fireo.queries.query_wrapper.ReferenceDocLoader object at 0x2a4c41f10>, 'name': 'Central Staff Memo - General Fund Deficit Historical Analysis', 'uri': 'https://legistar2.granicus.com/seattle/attachments/cb8c865f-95bc-48ff-877c-2f477493f14c.pdf', 'external_source_id': '38379', 'id': '9c60d136c0f6', 'key': 'matter_file/9c60d136c0f6'}\n",
      "{'matter_ref': <fireo.queries.query_wrapper.ReferenceDocLoader object at 0x2a373bb50>, 'name': 'Transit Riders Union Revenue Options Report', 'uri': 'https://legistar2.granicus.com/seattle/attachments/34ef34c2-9327-4060-b76e-128f4c023737.pdf', 'external_source_id': '38288', 'id': 'eb3e3fac92fa', 'key': 'matter_file/eb3e3fac92fa'}\n"
     ]
    }
   ],
   "source": [
    "def matter_files_for_matter(matter: models.Matter) -> list[models.MatterFile]:\n",
    "  results = list(models.MatterFile.collection.filter(matter_ref=matter.key).fetch())\n",
    "  return [t.cast(models.MatterFile, result) for result in results]\n",
    "\n",
    "matter_files = matter_files_for_matter(matters[0])\n",
    "for matter_file in matter_files:\n",
    "  print(matter_file.to_dict())"
   ]
  },
  {
   "cell_type": "markdown",
   "metadata": {},
   "source": [
    "This looks reasonable, if incomplete. In particular, visiting this item on Legistar today (September 27, 2023), I see:\n",
    "\n",
    "1. Work Group Report\n",
    "2. Central Staff Memo - General Fund Deficit Historical Analysis\n",
    "3. Central Staff Memo - Revenue Stablization Work Group - Process And Next Steps\n",
    "4. Transit Riders Union Revenue Options Report\n",
    "\n",
    "Looks like we're missing the `Work Group Report`. Was it posted later to legistar, after the crawler ran? Does the crawler know to revisit older items?\n",
    "\n",
    "See https://seattle.legistar.com/LegislationDetail.aspx?ID=6309644&GUID=0C784283-157E-4CA2-945F-86BEF744C6A1&Options=&Search="
   ]
  },
  {
   "cell_type": "markdown",
   "metadata": {},
   "source": [
    "Let's try for a different event:"
   ]
  },
  {
   "cell_type": "code",
   "execution_count": 113,
   "metadata": {},
   "outputs": [
    {
     "name": "stdout",
     "output_type": "stream",
     "text": [
      "Tuesday, August 15, 2023 09:30 AM\n",
      "{'name': 'CB 120639', 'matter_type': 'Council Bill (CB)', 'title': 'AN ORDINANCE relating to acceptance of funding from non-City sources; authorizing the General Manager and CEO of Seattle Public Utilities to accept specified loans to partially finance costs related to the construction of the South Thornton Natural Drainage System Project; and ratifying and confirming certain prior acts.', 'external_source_id': '14345', 'id': '066f16cdbe62', 'key': 'matter/066f16cdbe62'}\n",
      "{'name': 'CF 314496', 'matter_type': 'Clerk File (CF)', 'title': 'Petition of the Central Puget Sound Regional Transit Authority, for the vacation of a portion of the alley in block bounded by NE 45th Street, Roosevelt Way NE, NE 47th Street, and 11th Avenue NE, at 1000 NE 45th Street.', 'external_source_id': '13129', 'id': 'bcfae19095b7', 'key': 'matter/bcfae19095b7'}\n",
      "{'name': 'CB 120625', 'matter_type': 'Council Bill (CB)', 'title': 'AN ORDINANCE establishing additional uses for automated traffic safety cameras to increase safety; amending Sections 11.31.090, 11.31.121, and 11.50.570 of the Seattle Municipal Code.', 'external_source_id': '14352', 'id': 'cd54c8dfcbc0', 'key': 'matter/cd54c8dfcbc0'}\n",
      "{'name': 'CB 120638', 'matter_type': 'Council Bill (CB)', 'title': 'AN ORDINANCE relating to financial policies for Automated Traffic Safety Camera revenue; amending Section 5.82.010 of the Seattle Municipal Code; and repealing Chapter 5.81 of the Seattle Municipal Code.', 'external_source_id': '14453', 'id': 'c2a4e050c9d6', 'key': 'matter/c2a4e050c9d6'}\n",
      "{'name': 'Inf 2312', 'matter_type': 'Information Item (Inf)', 'title': 'Seattle Transit Measure Annual Report', 'external_source_id': '14472', 'id': '6a5e0568de5f', 'key': 'matter/6a5e0568de5f'}\n",
      "---\n",
      "{'name': 'CB 120639', 'matter_type': 'Council Bill (CB)', 'title': 'AN ORDINANCE relating to acceptance of funding from non-City sources; authorizing the General Manager and CEO of Seattle Public Utilities to accept specified loans to partially finance costs related to the construction of the South Thornton Natural Drainage System Project; and ratifying and confirming certain prior acts.', 'external_source_id': '14345', 'id': '066f16cdbe62', 'key': 'matter/066f16cdbe62'}\n",
      "{'matter_ref': <fireo.queries.query_wrapper.ReferenceDocLoader object at 0x2a4c842d0>, 'name': 'Summary Ex A – Draft Agreement with Ecology (WQC-2024 SeaPUD-0005)', 'uri': 'https://legistar2.granicus.com/seattle/attachments/0777c05d-e954-46aa-96e7-98b7d72433e1.docx', 'external_source_id': '38074', 'id': '7df7e7a844c3', 'key': 'matter_file/7df7e7a844c3'}\n",
      "{'matter_ref': <fireo.queries.query_wrapper.ReferenceDocLoader object at 0x2a4c86f90>, 'name': 'Presentation', 'uri': 'https://legistar2.granicus.com/seattle/attachments/33e2ad6e-3712-45b8-be50-33f924263631.pdf', 'external_source_id': '38418', 'id': '7f4b0aefc867', 'key': 'matter_file/7f4b0aefc867'}\n",
      "{'matter_ref': <fireo.queries.query_wrapper.ReferenceDocLoader object at 0x2a4c84790>, 'name': 'Summary and Fiscal Note', 'uri': 'https://legistar2.granicus.com/seattle/attachments/499de752-8adc-45b6-9365-a8d89d7cbefd.docx', 'external_source_id': '38073', 'id': '8402b19245c7', 'key': 'matter_file/8402b19245c7'}\n"
     ]
    }
   ],
   "source": [
    "event_1 = datasets_df.iloc[1][\"event\"]\n",
    "print(event_1.event_datetime.astimezone(seattle_tz).strftime(\"%A, %B %d, %Y %I:%M %p\"))\n",
    "matters = matters_for_event(event_1)\n",
    "for matter in matters:\n",
    "  print(matter.to_dict())\n",
    "matter_0 = matters[0]\n",
    "print(\"---\")\n",
    "print(matter_0.to_dict())\n",
    "matter_files = matter_files_for_matter(matter_0)\n",
    "for matter_file in matter_files:\n",
    "  print(matter_file.to_dict())"
   ]
  },
  {
   "cell_type": "markdown",
   "metadata": {},
   "source": [
    "Okay, so this is good, with one key exception: **we don't have the text of the matter_0 bill itself**.\n",
    "\n",
    "Looks like the CDP Seattle scraper needs to be improved here. Unfortunately, the full text of bills and ordinances is not always added as an *attachment*. Rather, it's often only available on the bill's page itself. See here:\n",
    "\n",
    "https://seattle.legistar.com/LegislationDetail.aspx?ID=6309305&GUID=AB0410F6-5EBD-4360-925B-0E875CA4F525&Options=&Search=&FullText=1\n",
    "\n",
    "Because the underlying CDP data model does not appear to keep scraped URLs in all cases, it may prove difficult to get the full text of the bill. I see the `external_source_id` in `Matter`, but I'll need to see what the Seattle scraper is actually doing.\n",
    "\n",
    "More than that: with the current data model, there's no place to *store* the full text of the bill once we have it. The `MatterFile` model simply links to the original document on (say) Legistar. That's fine, but what exactly should the link be in the example above? That link is a full HTML page, only some of which is the text of the council bill. (Maybe that's good enough?)\n",
    "\n",
    "Of course, this is just Seattle! Maybe we *do* get council bill text for other councils. I suppose we should try. :-)"
   ]
  },
  {
   "cell_type": "code",
   "execution_count": 120,
   "metadata": {},
   "outputs": [
    {
     "data": {
      "application/vnd.jupyter.widget-view+json": {
       "model_id": "c43e545feeb64572872468a962e65502",
       "version_major": 2,
       "version_minor": 0
      },
      "text/plain": [
       "Fetching each model attached to event_ref:   0%|          | 0/3 [00:00<?, ?it/s]"
      ]
     },
     "metadata": {},
     "output_type": "display_data"
    },
    {
     "data": {
      "application/vnd.jupyter.widget-view+json": {
       "model_id": "38fede71427248d68ae385ed62f19b3a",
       "version_major": 2,
       "version_minor": 0
      },
      "text/plain": [
       "Fetching transcripts:   0%|          | 0/3 [00:00<?, ?it/s]"
      ]
     },
     "metadata": {},
     "output_type": "display_data"
    },
    {
     "data": {
      "text/html": [
       "<div>\n",
       "<style scoped>\n",
       "    .dataframe tbody tr th:only-of-type {\n",
       "        vertical-align: middle;\n",
       "    }\n",
       "\n",
       "    .dataframe tbody tr th {\n",
       "        vertical-align: top;\n",
       "    }\n",
       "\n",
       "    .dataframe thead th {\n",
       "        text-align: right;\n",
       "    }\n",
       "</style>\n",
       "<table border=\"1\" class=\"dataframe\">\n",
       "  <thead>\n",
       "    <tr style=\"text-align: right;\">\n",
       "      <th></th>\n",
       "      <th>session_datetime</th>\n",
       "      <th>session_index</th>\n",
       "      <th>session_content_hash</th>\n",
       "      <th>video_uri</th>\n",
       "      <th>video_start_time</th>\n",
       "      <th>video_end_time</th>\n",
       "      <th>caption_uri</th>\n",
       "      <th>external_source_id</th>\n",
       "      <th>id</th>\n",
       "      <th>key</th>\n",
       "      <th>event</th>\n",
       "      <th>transcript</th>\n",
       "      <th>transcript_path</th>\n",
       "    </tr>\n",
       "  </thead>\n",
       "  <tbody>\n",
       "    <tr>\n",
       "      <th>0</th>\n",
       "      <td>2023-08-07 21:00:00+00:00</td>\n",
       "      <td>0</td>\n",
       "      <td>c1103c9cfd4ac74b44ac0c2b1fb67035193c028601cd38...</td>\n",
       "      <td>https://archive-video.granicus.com/charlottenc...</td>\n",
       "      <td>None</td>\n",
       "      <td>None</td>\n",
       "      <td>None</td>\n",
       "      <td>None</td>\n",
       "      <td>1bf4677814a3</td>\n",
       "      <td>session/1bf4677814a3</td>\n",
       "      <td>&lt;cdp_backend.database.models.Event object at 0...</td>\n",
       "      <td>&lt;cdp_backend.database.models.Transcript object...</td>\n",
       "      <td>/Users/dave/dev/cdp/summarize/cdp-datasets/cdp...</td>\n",
       "    </tr>\n",
       "    <tr>\n",
       "      <th>1</th>\n",
       "      <td>2023-08-21 21:00:00+00:00</td>\n",
       "      <td>0</td>\n",
       "      <td>29f37dc5525df61351168e6bcbc02471c75c55ee2e74c0...</td>\n",
       "      <td>https://archive-video.granicus.com/charlottenc...</td>\n",
       "      <td>None</td>\n",
       "      <td>None</td>\n",
       "      <td>None</td>\n",
       "      <td>None</td>\n",
       "      <td>b0bc185b2f9f</td>\n",
       "      <td>session/b0bc185b2f9f</td>\n",
       "      <td>&lt;cdp_backend.database.models.Event object at 0...</td>\n",
       "      <td>&lt;cdp_backend.database.models.Transcript object...</td>\n",
       "      <td>/Users/dave/dev/cdp/summarize/cdp-datasets/cdp...</td>\n",
       "    </tr>\n",
       "    <tr>\n",
       "      <th>2</th>\n",
       "      <td>2023-09-05 22:00:00+00:00</td>\n",
       "      <td>0</td>\n",
       "      <td>50ae50f023e5d4e68904b871fe479e2479f6a1744fc381...</td>\n",
       "      <td>https://archive-video.granicus.com/charlottenc...</td>\n",
       "      <td>None</td>\n",
       "      <td>None</td>\n",
       "      <td>None</td>\n",
       "      <td>None</td>\n",
       "      <td>563528c86f04</td>\n",
       "      <td>session/563528c86f04</td>\n",
       "      <td>&lt;cdp_backend.database.models.Event object at 0...</td>\n",
       "      <td>&lt;cdp_backend.database.models.Transcript object...</td>\n",
       "      <td>/Users/dave/dev/cdp/summarize/cdp-datasets/cdp...</td>\n",
       "    </tr>\n",
       "  </tbody>\n",
       "</table>\n",
       "</div>"
      ],
      "text/plain": [
       "           session_datetime  session_index  \\\n",
       "0 2023-08-07 21:00:00+00:00              0   \n",
       "1 2023-08-21 21:00:00+00:00              0   \n",
       "2 2023-09-05 22:00:00+00:00              0   \n",
       "\n",
       "                                session_content_hash  \\\n",
       "0  c1103c9cfd4ac74b44ac0c2b1fb67035193c028601cd38...   \n",
       "1  29f37dc5525df61351168e6bcbc02471c75c55ee2e74c0...   \n",
       "2  50ae50f023e5d4e68904b871fe479e2479f6a1744fc381...   \n",
       "\n",
       "                                           video_uri video_start_time  \\\n",
       "0  https://archive-video.granicus.com/charlottenc...             None   \n",
       "1  https://archive-video.granicus.com/charlottenc...             None   \n",
       "2  https://archive-video.granicus.com/charlottenc...             None   \n",
       "\n",
       "  video_end_time caption_uri external_source_id            id  \\\n",
       "0           None        None               None  1bf4677814a3   \n",
       "1           None        None               None  b0bc185b2f9f   \n",
       "2           None        None               None  563528c86f04   \n",
       "\n",
       "                    key                                              event  \\\n",
       "0  session/1bf4677814a3  <cdp_backend.database.models.Event object at 0...   \n",
       "1  session/b0bc185b2f9f  <cdp_backend.database.models.Event object at 0...   \n",
       "2  session/563528c86f04  <cdp_backend.database.models.Event object at 0...   \n",
       "\n",
       "                                          transcript  \\\n",
       "0  <cdp_backend.database.models.Transcript object...   \n",
       "1  <cdp_backend.database.models.Transcript object...   \n",
       "2  <cdp_backend.database.models.Transcript object...   \n",
       "\n",
       "                                     transcript_path  \n",
       "0  /Users/dave/dev/cdp/summarize/cdp-datasets/cdp...  \n",
       "1  /Users/dave/dev/cdp/summarize/cdp-datasets/cdp...  \n",
       "2  /Users/dave/dev/cdp/summarize/cdp-datasets/cdp...  "
      ]
     },
     "execution_count": 120,
     "metadata": {},
     "output_type": "execute_result"
    }
   ],
   "source": [
    "charlotte_datasets_df = datasets.get_session_dataset(\n",
    "\tinfrastructure_slug=CDPInstances.Charlotte,\n",
    "\tstart_datetime=\"2023-08-01\",\n",
    "\tstore_transcript=True\n",
    ")\n",
    "\n",
    "charlotte_datasets_df"
   ]
  },
  {
   "cell_type": "code",
   "execution_count": 135,
   "metadata": {},
   "outputs": [
    {
     "data": {
      "text/plain": [
       "{'body_ref': <fireo.queries.query_wrapper.ReferenceDocLoader at 0x2a374b950>,\n",
       " 'event_datetime': DatetimeWithNanoseconds(2023, 8, 21, 21, 0, tzinfo=datetime.timezone.utc),\n",
       " 'static_thumbnail_ref': <fireo.queries.query_wrapper.ReferenceDocLoader at 0x2a374b650>,\n",
       " 'hover_thumbnail_ref': <fireo.queries.query_wrapper.ReferenceDocLoader at 0x2a3749910>,\n",
       " 'agenda_uri': None,\n",
       " 'minutes_uri': None,\n",
       " 'external_source_id': '1600',\n",
       " 'id': '62d3209d1f1c',\n",
       " 'key': 'event/62d3209d1f1c'}"
      ]
     },
     "execution_count": 135,
     "metadata": {},
     "output_type": "execute_result"
    }
   ],
   "source": [
    "charlotte_event_0 = charlotte_datasets_df.iloc[1][\"event\"]\n",
    "charlotte_event_0.to_dict()"
   ]
  },
  {
   "cell_type": "code",
   "execution_count": 136,
   "metadata": {},
   "outputs": [
    {
     "name": "stdout",
     "output_type": "stream",
     "text": [
      "Monday, August 21, 2023 05:00 PM\n"
     ]
    }
   ],
   "source": [
    "charlotte_tz = zoneinfo.ZoneInfo(\"America/New_York\")\n",
    "print(charlotte_event_0.event_datetime.astimezone(charlotte_tz).strftime(\"%A, %B %d, %Y %I:%M %p\"))"
   ]
  },
  {
   "cell_type": "code",
   "execution_count": 137,
   "metadata": {},
   "outputs": [
    {
     "name": "stdout",
     "output_type": "stream",
     "text": [
      "{'name': '15-21016', 'matter_type': 'Dinner Briefing', 'title': '5:00 P.M. CITY COUNCIL ZONING MEETING\\nCHARLOTTE-MECKLENBURG GOVERNMENT CENTER,\\nREGULAR MEETING HOSTED FROM COUNCIL CHAMBERS', 'external_source_id': '24304', 'id': 'f0a108fcd648', 'key': 'matter/f0a108fcd648'}\n",
      "{'name': '15-21018', 'matter_type': 'Zoning Decision', 'title': 'Rezoning Petition: 2021-198 by Nest Home Communities, LLC', 'external_source_id': '24306', 'id': '217d989ce25e', 'key': 'matter/217d989ce25e'}\n",
      "{'name': '15-21026', 'matter_type': 'Zoning Hearing', 'title': 'Rezoning Petition: 2022-151 by Rayna Properties, LLC', 'external_source_id': '24314', 'id': '6d14796195d0', 'key': 'matter/6d14796195d0'}\n",
      "{'name': '15-21030', 'matter_type': 'Zoning Decision', 'title': 'Rezoning Petition: 2022-048 by Tribute Companies, Inc.', 'external_source_id': '24318', 'id': 'fa8b5fecb4cd', 'key': 'matter/fa8b5fecb4cd'}\n",
      "{'name': '15-21022', 'matter_type': 'Zoning Decision', 'title': 'Rezoning Petition: 2022-099 by Levine Properties', 'external_source_id': '24310', 'id': '90aa835ae095', 'key': 'matter/90aa835ae095'}\n",
      "{'name': '15-21023', 'matter_type': 'Zoning Decision', 'title': 'Rezoning Petition: 2022-109 by Urban Trends Real Estate, Inc.', 'external_source_id': '24311', 'id': '342a8d6dadce', 'key': 'matter/342a8d6dadce'}\n",
      "{'name': '15-21024', 'matter_type': 'Zoning Decision', 'title': 'Rezoning Petition: 2022-134 by Muhsin Muhammad II', 'external_source_id': '24312', 'id': '87ecf0086516', 'key': 'matter/87ecf0086516'}\n",
      "{'name': '15-21031', 'matter_type': 'Zoning Decision', 'title': 'Rezoning Petition: 2022-147 by SouthPark Towers PropCo, LLC', 'external_source_id': '24319', 'id': 'da33cd17dd43', 'key': 'matter/da33cd17dd43'}\n",
      "{'name': '15-21117', 'matter_type': 'Zoning Decision', 'title': 'Rezoning Petition: 2022-148 by Third & Urban LLC', 'external_source_id': '24405', 'id': 'b2363e07ae29', 'key': 'matter/b2363e07ae29'}\n",
      "{'name': '15-21025', 'matter_type': 'Zoning Decision', 'title': 'Rezoning Petition: 2022-156 by Greystar Development East, LLC', 'external_source_id': '24313', 'id': '0b65e1f4d9a7', 'key': 'matter/0b65e1f4d9a7'}\n",
      "{'name': '15-21033', 'matter_type': 'Zoning Decision', 'title': 'Rezoning Petition: 2022-157 by Leon & Jennifer Chisolm', 'external_source_id': '24321', 'id': 'e308c557a292', 'key': 'matter/e308c557a292'}\n",
      "{'name': '15-21039', 'matter_type': 'Zoning Decision', 'title': 'Rezoning Petition: 2022-161 by Pulte Group', 'external_source_id': '24327', 'id': 'a524b921cc44', 'key': 'matter/a524b921cc44'}\n",
      "{'name': '15-21034', 'matter_type': 'Zoning Decision', 'title': 'Rezoning Petition: 2022-193 by Brown Group, Inc.', 'external_source_id': '24322', 'id': '62b66134f59b', 'key': 'matter/62b66134f59b'}\n",
      "{'name': '15-21029', 'matter_type': 'Zoning Decision', 'title': 'Rezoning Petition: 2021-209 by Coastal Acquisition Entity, LLC', 'external_source_id': '24317', 'id': '6721048d6e5a', 'key': 'matter/6721048d6e5a'}\n",
      "{'name': '15-21035', 'matter_type': 'Zoning Decision', 'title': 'Rezoning Petition: 2022-219 by Scott Allred', 'external_source_id': '24323', 'id': '469a9eb64637', 'key': 'matter/469a9eb64637'}\n",
      "{'name': '15-21036', 'matter_type': 'Zoning Decision', 'title': 'Rezoning Petition: 2021-256 by NVR, Inc.', 'external_source_id': '24324', 'id': '89c628a1f720', 'key': 'matter/89c628a1f720'}\n",
      "{'name': '15-21041', 'matter_type': 'Zoning Decision', 'title': 'Rezoning Petition: 2022-160 by Penler Development, LLC', 'external_source_id': '24329', 'id': 'acdd5ff5c1fc', 'key': 'matter/acdd5ff5c1fc'}\n",
      "{'name': '15-21042', 'matter_type': 'Zoning Decision', 'title': 'Rezoning Petition: 2022-168 by Nick Armstrong', 'external_source_id': '24330', 'id': 'b48c77df4778', 'key': 'matter/b48c77df4778'}\n",
      "{'name': '15-21100', 'matter_type': 'Zoning Decision', 'title': 'Rezoning Petition: 2022-183 by Blu South LLC', 'external_source_id': '24388', 'id': '2af7fe1eca89', 'key': 'matter/2af7fe1eca89'}\n",
      "{'name': '15-21046', 'matter_type': 'Zoning Decision', 'title': 'Rezoning Petition: 2023-002 by Jay Cox', 'external_source_id': '24334', 'id': '54195f38ee35', 'key': 'matter/54195f38ee35'}\n",
      "{'name': '15-21084', 'matter_type': 'Zoning Hearing', 'title': \"Rezoning Petition: 2022-076 by Sam's Mart\", 'external_source_id': '24372', 'id': '7584e7f514a3', 'key': 'matter/7584e7f514a3'}\n",
      "{'name': '15-21085', 'matter_type': 'Zoning Hearing', 'title': \"Rezoning Petition: 2022-092 by Sam's Mart\", 'external_source_id': '24373', 'id': 'ac6c0d4f07a4', 'key': 'matter/ac6c0d4f07a4'}\n",
      "{'name': '15-21079', 'matter_type': 'Zoning Hearing', 'title': 'Rezoning Petition: 2021-285 by Clearwater Development Partners Inc.', 'external_source_id': '24367', 'id': '4605b0abf389', 'key': 'matter/4605b0abf389'}\n",
      "{'name': '15-21080', 'matter_type': 'Zoning Hearing', 'title': 'Rezoning Petition: 2022-218 by Mattamy Homes', 'external_source_id': '24368', 'id': 'bd5fec35562c', 'key': 'matter/bd5fec35562c'}\n",
      "{'name': '15-21081', 'matter_type': 'Zoning Hearing', 'title': 'Rezoning Petition: 2023-034 by Cambridge Properties, Inc.', 'external_source_id': '24369', 'id': 'db8cd3580644', 'key': 'matter/db8cd3580644'}\n",
      "{'name': '15-21087', 'matter_type': 'Zoning Hearing', 'title': 'Rezoning Petition: 2023-011 by Brian Foushee', 'external_source_id': '24375', 'id': 'c1308c7a1f39', 'key': 'matter/c1308c7a1f39'}\n",
      "{'name': '15-21090', 'matter_type': 'Zoning Hearing', 'title': 'Rezoning Petition: 2023-019 by Charlotte Truck Center, Inc.', 'external_source_id': '24378', 'id': '27621e647c07', 'key': 'matter/27621e647c07'}\n",
      "{'name': '15-21113', 'matter_type': 'Zoning Hearing', 'title': 'Rezoning Petition: 2022-096 by Kairoi Residential', 'external_source_id': '24401', 'id': '5d0d3fc3dd18', 'key': 'matter/5d0d3fc3dd18'}\n",
      "{'name': '15-21047', 'matter_type': 'Consent Item', 'title': 'Consent agenda items 3 through 28 may be considered in one motion except for those items pulled by a Council member. Items are pulled by notifying the City Clerk.', 'external_source_id': '24335', 'id': 'be1a0867d5ce', 'key': 'matter/be1a0867d5ce'}\n",
      "{'name': '15-21050', 'matter_type': 'Consent Item', 'title': 'Rezoning Petition: 2021-221 by Paulette Canaday', 'external_source_id': '24338', 'id': 'edf2d3a9fa9e', 'key': 'matter/edf2d3a9fa9e'}\n",
      "{'name': '15-21052', 'matter_type': 'Consent Item', 'title': 'Rezoning Petition: 2022-036 by MPV Properties', 'external_source_id': '24340', 'id': '9fd0a4815ed5', 'key': 'matter/9fd0a4815ed5'}\n",
      "{'name': '15-21053', 'matter_type': 'Consent Item', 'title': 'Rezoning Petition: 2022-068 by Barbara A. Freeman', 'external_source_id': '24341', 'id': 'ad634b5a1ede', 'key': 'matter/ad634b5a1ede'}\n",
      "{'name': '15-21054', 'matter_type': 'Consent Item', 'title': 'Rezoning Petition: 2022-114 by Rohit Patel', 'external_source_id': '24342', 'id': '85024c7f332f', 'key': 'matter/85024c7f332f'}\n",
      "{'name': '15-21055', 'matter_type': 'Consent Item', 'title': 'Rezoning Petition: 2022-115 by Urban Trends Real Estate', 'external_source_id': '24343', 'id': '6e0cfb6b50d7', 'key': 'matter/6e0cfb6b50d7'}\n",
      "{'name': '15-21056', 'matter_type': 'Consent Item', 'title': 'Rezoning Petition: 2022-119 by Blackburn Communities, LLC', 'external_source_id': '24344', 'id': 'c7e06d54c4d2', 'key': 'matter/c7e06d54c4d2'}\n",
      "{'name': '15-21057', 'matter_type': 'Consent Item', 'title': 'Rezoning Petition: 2022-173 by Tryon 49 LLC', 'external_source_id': '24345', 'id': 'c194817fbd2b', 'key': 'matter/c194817fbd2b'}\n",
      "{'name': '15-21059', 'matter_type': 'Consent Item', 'title': 'Rezoning Petition: 2022-191 by Red Cedar Capital Partners', 'external_source_id': '24347', 'id': 'aef91e19cae6', 'key': 'matter/aef91e19cae6'}\n",
      "{'name': '15-21060', 'matter_type': 'Consent Item', 'title': 'Rezoning Petition: 2022-199 by Mission Properties', 'external_source_id': '24348', 'id': '559ea7c59127', 'key': 'matter/559ea7c59127'}\n",
      "{'name': '15-21061', 'matter_type': 'Consent Item', 'title': 'Rezoning Petition: 2022-200 by IP P2 CCP, LLC', 'external_source_id': '24349', 'id': '09ee42bc526b', 'key': 'matter/09ee42bc526b'}\n",
      "{'name': '15-21062', 'matter_type': 'Consent Item', 'title': 'Rezoning Petition: 2022-205 by DR Horton', 'external_source_id': '24350', 'id': '21a8093327d9', 'key': 'matter/21a8093327d9'}\n",
      "{'name': '15-21063', 'matter_type': 'Consent Item', 'title': 'Rezoning Petition: 2022-207 by SLC Development, LLC', 'external_source_id': '24351', 'id': 'ad199b7e1cdd', 'key': 'matter/ad199b7e1cdd'}\n",
      "{'name': '15-21064', 'matter_type': 'Consent Item', 'title': 'Rezoning Petition: 2022-208 by Summit Avenue Keswick, LLC', 'external_source_id': '24352', 'id': 'a9962c056588', 'key': 'matter/a9962c056588'}\n",
      "{'name': '15-21065', 'matter_type': 'Consent Item', 'title': 'Rezoning Petition: 2022-209 by The Keith Corporation', 'external_source_id': '24353', 'id': '75b0b6d03445', 'key': 'matter/75b0b6d03445'}\n",
      "{'name': '15-21066', 'matter_type': 'Consent Item', 'title': 'Rezoning Petition: 2022-214 by Liberty Senior Living', 'external_source_id': '24354', 'id': '0c438dd1affb', 'key': 'matter/0c438dd1affb'}\n",
      "{'name': '15-21067', 'matter_type': 'Consent Item', 'title': 'Rezoning Petition: 2022-217 by Mecklenburg County', 'external_source_id': '24355', 'id': '8e4eac77e8b6', 'key': 'matter/8e4eac77e8b6'}\n",
      "{'name': '15-21068', 'matter_type': 'Consent Item', 'title': 'Rezoning Petition: 2022-222 by Pearl Properties LLC', 'external_source_id': '24356', 'id': '22dcba5b5bd1', 'key': 'matter/22dcba5b5bd1'}\n",
      "{'name': '15-21069', 'matter_type': 'Consent Item', 'title': 'Rezoning Petition: 2023-003 by Clarke Allen', 'external_source_id': '24357', 'id': 'a1fde359d123', 'key': 'matter/a1fde359d123'}\n",
      "{'name': '15-21070', 'matter_type': 'Consent Item', 'title': 'Rezoning Petition: 2023-004 by Lucky Dog Charlotte Properties, LLC', 'external_source_id': '24358', 'id': '0c9af036a95b', 'key': 'matter/0c9af036a95b'}\n",
      "{'name': '15-21071', 'matter_type': 'Consent Item', 'title': 'Rezoning Petition: 2023-005 by Sustainable Resources Properties, LLC', 'external_source_id': '24359', 'id': '519a28f90e71', 'key': 'matter/519a28f90e71'}\n",
      "{'name': '15-21073', 'matter_type': 'Consent Item', 'title': 'Rezoning Petition: 2023-006 by Old Pineville Investments, LLC', 'external_source_id': '24361', 'id': 'ab599fc25b3c', 'key': 'matter/ab599fc25b3c'}\n",
      "{'name': '15-21074', 'matter_type': 'Consent Item', 'title': 'Rezoning Petition: 2023-007 by Laurel Oak Farm, LLC', 'external_source_id': '24362', 'id': '828fa2be5ab3', 'key': 'matter/828fa2be5ab3'}\n",
      "{'name': '15-21075', 'matter_type': 'Consent Item', 'title': 'Rezoning Petition: 2023-010 by City of Charlotte', 'external_source_id': '24363', 'id': '358de6cda88b', 'key': 'matter/358de6cda88b'}\n",
      "{'name': '15-21076', 'matter_type': 'Consent Item', 'title': 'Rezoning Petition: 2023-060 by Habitat for Humanity of the Charlotte Region', 'external_source_id': '24364', 'id': 'ec7e972f86f4', 'key': 'matter/ec7e972f86f4'}\n",
      "{'name': '15-21077', 'matter_type': 'Consent Item', 'title': 'Rezoning Petition: 2023-072 by Merancas Holdings, LLC', 'external_source_id': '24365', 'id': 'a21f88f8625b', 'key': 'matter/a21f88f8625b'}\n",
      "{'name': '15-21078', 'matter_type': 'Consent Item', 'title': 'Rezoning Petition: 2023-075 by City of Charlotte', 'external_source_id': '24366', 'id': 'bfdd0107d237', 'key': 'matter/bfdd0107d237'}\n",
      "{'name': '15-21097', 'matter_type': 'Dinner Briefing', 'title': 'Follow Up Report', 'external_source_id': '24385', 'id': '093786649118', 'key': 'matter/093786649118'}\n",
      "{'name': '15-21098', 'matter_type': 'Zoning Decision', 'title': 'Rezoning Petition: 2023-093 by Charlotte Planning, Design, & Development - Text Amendment', 'external_source_id': '24386', 'id': '3c0061b62fae', 'key': 'matter/3c0061b62fae'}\n",
      "{'name': '15-21038', 'matter_type': 'Zoning Decision', 'title': 'Rezoning Petition: 2022-060 by Providence Group Capital', 'external_source_id': '24326', 'id': 'ce96a48e68e3', 'key': 'matter/ce96a48e68e3'}\n",
      "{'name': '15-21040', 'matter_type': 'Zoning Decision', 'title': 'Rezoning Petition: 2022-152 by Vinroy Reid', 'external_source_id': '24328', 'id': 'b0208e92c747', 'key': 'matter/b0208e92c747'}\n",
      "{'name': '15-21043', 'matter_type': 'Zoning Decision', 'title': 'Rezoning Petition: 2022-198 by Ardent Acquisitions LLC', 'external_source_id': '24331', 'id': 'cee11cd063bd', 'key': 'matter/cee11cd063bd'}\n",
      "{'name': '15-21044', 'matter_type': 'Zoning Decision', 'title': \"Rezoning Petition: 2022-202 by Sam's Mart\", 'external_source_id': '24332', 'id': '5f4b4afd6d2b', 'key': 'matter/5f4b4afd6d2b'}\n",
      "{'name': '15-21045', 'matter_type': 'Zoning Decision', 'title': 'Rezoning Petition: 2022-204 by Jay Jeet, LLC', 'external_source_id': '24333', 'id': '6d2294ea716c', 'key': 'matter/6d2294ea716c'}\n",
      "{'name': '15-21099', 'matter_type': 'Zoning Decision', 'title': 'Rezoning Petition: 2022-212 by Chipotle Mexican Grill of Colorado, LLC', 'external_source_id': '24387', 'id': '954990b6e153', 'key': 'matter/954990b6e153'}\n",
      "{'name': '15-21088', 'matter_type': 'Zoning Hearing', 'title': 'Rezoning Petition: 2023-013 by Toll Brothers Apartment Living', 'external_source_id': '24376', 'id': '6f7f1d5f21ab', 'key': 'matter/6f7f1d5f21ab'}\n",
      "{'name': '15-21094', 'matter_type': 'Zoning Hearing', 'title': 'Rezoning Petition: 2023-030 by Rhyne Land Holdings, LLC', 'external_source_id': '24382', 'id': 'e98b8ece22e7', 'key': 'matter/e98b8ece22e7'}\n",
      "{'name': '15-21082', 'matter_type': 'Zoning Hearing', 'title': 'Rezoning Petition: 2022-049 by Turnstone Group, LLC', 'external_source_id': '24370', 'id': '3ad489a58d46', 'key': 'matter/3ad489a58d46'}\n",
      "{'name': '15-21086', 'matter_type': 'Zoning Hearing', 'title': 'Rezoning Petition: 2022-146 by KTED LLC', 'external_source_id': '24374', 'id': '143698b2aa43', 'key': 'matter/143698b2aa43'}\n",
      "{'name': '15-21089', 'matter_type': 'Zoning Hearing', 'title': 'Rezoning Petition: 2023-014 by Charlotte Truck Center, Inc.', 'external_source_id': '24377', 'id': '7f5c1ae6395d', 'key': 'matter/7f5c1ae6395d'}\n",
      "{'name': '15-21091', 'matter_type': 'Zoning Hearing', 'title': 'Rezoning Petition: 2023-022 by Charter Properties, Inc.', 'external_source_id': '24379', 'id': '7a3bc9c0a046', 'key': 'matter/7a3bc9c0a046'}\n",
      "{'name': '15-21092', 'matter_type': 'Zoning Hearing', 'title': 'Rezoning Petition: 2023-027 by 401 S. College St. NC, LLC', 'external_source_id': '24380', 'id': 'b09c50acfdf6', 'key': 'matter/b09c50acfdf6'}\n",
      "{'name': '15-21093', 'matter_type': 'Zoning Hearing', 'title': 'Rezoning Petition: 2023-029 by MAGLC LLC', 'external_source_id': '24381', 'id': '5c398ce01c49', 'key': 'matter/5c398ce01c49'}\n",
      "{'name': '15-21095', 'matter_type': 'Zoning Hearing', 'title': 'Rezoning Petition: 2023-049 by Wells Fargo Bank', 'external_source_id': '24383', 'id': '0054d0bf9783', 'key': 'matter/0054d0bf9783'}\n",
      "{'name': '15-21096', 'matter_type': 'Zoning Hearing', 'title': 'Rezoning Petition: 2023-050 by Mudassar Mohammed', 'external_source_id': '24384', 'id': 'de70f2d18813', 'key': 'matter/de70f2d18813'}\n",
      "{'name': '15-21129', 'matter_type': 'Consent Item', 'title': 'ADJOURN', 'external_source_id': '24417', 'id': '2046b3bbfe14', 'key': 'matter/2046b3bbfe14'}\n"
     ]
    }
   ],
   "source": [
    "matters = matters_for_event(charlotte_event_0)\n",
    "for matter in matters:\n",
    "  print(matter.to_dict())"
   ]
  },
  {
   "cell_type": "code",
   "execution_count": 124,
   "metadata": {},
   "outputs": [
    {
     "name": "stdout",
     "output_type": "stream",
     "text": [
      "{'matter_ref': <fireo.queries.query_wrapper.ReferenceDocLoader object at 0x2a3924b90>, 'name': 'Charlotte Commmunity Capital Fund Presentation', 'uri': 'https://charlottenc.legistar1.com/charlottenc/attachments/5d4b4550-c229-4e82-a9a3-a2a20ef6d8bc.pdf', 'external_source_id': '36737', 'id': '667deaaae08f', 'key': 'matter_file/667deaaae08f'}\n"
     ]
    }
   ],
   "source": [
    "matter_files = matter_files_for_matter(matters[0])\n",
    "for matter_file in matter_files:\n",
    "  print(matter_file.to_dict())"
   ]
  }
 ],
 "metadata": {
  "kernelspec": {
   "display_name": "summarize-_FSr6YpO",
   "language": "python",
   "name": "python3"
  },
  "language_info": {
   "codemirror_mode": {
    "name": "ipython",
    "version": 3
   },
   "file_extension": ".py",
   "mimetype": "text/x-python",
   "name": "python",
   "nbconvert_exporter": "python",
   "pygments_lexer": "ipython3",
   "version": "3.11.5"
  },
  "orig_nbformat": 4
 },
 "nbformat": 4,
 "nbformat_minor": 2
}
